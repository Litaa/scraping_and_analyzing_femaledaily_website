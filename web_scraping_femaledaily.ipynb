{
 "cells": [
  {
   "cell_type": "markdown",
   "metadata": {},
   "source": [
    "# Introduction"
   ]
  },
  {
   "cell_type": "markdown",
   "metadata": {},
   "source": [
    "<div style=\"text-align:justify\">Web scraping adalah proses ekstrasi data dan informasi secara otomatis pada website. Proses ini biasanya dilakukan ketika ingin mengetahui lebih dalam tentang sebuah informasi, namun data yang digunakan untuk dilakukan analisis tidak tersedia di berbagai repositori.</div>\n",
    "<div style=\"text-align:justify\">Pada tulisan ini, saya akan membagikan contoh cara penarikan data pada website Femaledaily untuk kemudian dianalisis agar menghasilkan informasi yang bermanfaat untuk para pengguna aktif Femaledaily terutama yang menggemari produk skincare.</div>\n",
    "<div style=\"text-align:justify\">Femaledaily sendiri adalah sebuah website yang berisikan artikel dan review-review pada produk kecantikan. Website ini memiliki sasaran pengguna mayoritas wanita. Terdapat berbagai macam kategori produk kecantikan yang ditampilkan pada website ini, meliputi skincare, make-up, nail, fragrance, hair and body. Dan dari masing-masing kategori tersebut terdapat beberapa sub-kategori, dimana sub-kategori berisikan nama-nama produk kecantikan yang di ulas oleh beberapa reviewer.</div>\n",
    "<div style=\"text-align:justify\">Tujuan utama pada tulisan kali ini adalah menganalisa lebih lanjut tentang informasi-informasi yang dapat diperoleh dan bermanfaat pada kategori produk skincare. Informasi tersebut meliputi, kategori produk apa saja yang paling sering direview oleh pengguna, siapa saja reviewer yang aktif memberikan ulasan/review baik pada masing-masing produk kategori, dan lain-lain.</div>"
   ]
  },
  {
   "cell_type": "markdown",
   "metadata": {},
   "source": [
    "# Proses Scraping"
   ]
  },
  {
   "cell_type": "markdown",
   "metadata": {},
   "source": [
    "<h3>Library</h3>"
   ]
  },
  {
   "cell_type": "markdown",
   "metadata": {},
   "source": [
    "<b>Selenium </b>,\n",
    "<b>BeautifulSoup </b>,\n",
    "<b>Chromedriver </b>"
   ]
  },
  {
   "cell_type": "code",
   "execution_count": 2,
   "metadata": {},
   "outputs": [],
   "source": [
    "import requests\n",
    "from bs4 import BeautifulSoup #web scraping library\n",
    "from selenium import webdriver #web scraping library\n",
    "from selenium.common import exceptions\n",
    "import pandas as pd\n",
    "import selenium\n",
    "from tqdm import tqdm"
   ]
  },
  {
   "cell_type": "code",
   "execution_count": 2,
   "metadata": {},
   "outputs": [],
   "source": [
    "#import webdriver from local path\n",
    "browser = webdriver.Chrome('E:/ALGORITMA/driver/chromedriver.exe')\n",
    "#targeted url address\n",
    "url = \"https://femaledaily.com/category/skincare\"\n",
    "#get response from url\n",
    "response = browser.get(url)\n"
   ]
  },
  {
   "cell_type": "markdown",
   "metadata": {},
   "source": [
    "<h3><b>Memulai penarikan HTML dan XML file</b></h3>\n",
    "<h4><b>Halaman ke-1</b></h4>"
   ]
  },
  {
   "cell_type": "code",
   "execution_count": 3,
   "metadata": {},
   "outputs": [],
   "source": [
    "category_root = browser.find_element_by_class_name('jsx-3263867242.category-landing-list')\n",
    "category_column = category_root.find_elements_by_class_name('jsx-3263867242.category-landing-column')\n",
    "\n",
    "#list of category\n",
    "list_of_category = []\n",
    "list_of_href = []\n",
    "\n",
    "for i in category_column:\n",
    "    get_category_name = i.find_elements_by_tag_name(\"a\")\n",
    "    for cat in get_category_name:\n",
    "        list_of_category.append(cat.text)\n",
    "        list_of_href.append(cat.get_attribute('href'))"
   ]
  },
  {
   "cell_type": "markdown",
   "metadata": {},
   "source": [
    "<h4><b>Halaman ke-2</b></h4>"
   ]
  },
  {
   "cell_type": "code",
   "execution_count": 4,
   "metadata": {},
   "outputs": [],
   "source": [
    "import time\n",
    "import numpy as np\n",
    "\n",
    "list_of_product = []\n",
    "list_href_product = []\n",
    "list_prod_category = []\n",
    "\n",
    "#loop page for each category\n",
    "for i in [0]:\n",
    "    x = list_of_href[i][:-1]\n",
    "    cat_name = list_of_category[i]\n",
    "    prod_list = [] \n",
    "    for page in range(1,2):\n",
    "        source = requests.get(x+str(page))\n",
    "        data = BeautifulSoup(source.content, 'html.parser')\n",
    "        body = data.find('body')\n",
    "        div = body.find(\"div\",{\"class\":\"jsx-489929435\"})\n",
    "        for div in div.find_all(\"div\",attrs = {\"class\":\"jsx-3541907014 product-item\"}):\n",
    "            for link in div.find_all(\"div\",attrs = {\"class\":\"jsx-3920372551 product-card-catalog\"}):\n",
    "                product_item = link.find('a')\n",
    "                prod_link = product_item.get('href')\n",
    "                list_href_product.append('https://reviews.femaledaily.com'+prod_link)\n",
    "                div_prod = link.find('div',attrs = {\"class\":\"jsx-3920372551\"})\n",
    "                list_of_product.append(div_prod.a.text)\n",
    "                prod_list.append(div_prod.a.text)\n",
    "    categories = [cat_name] * len(prod_list)\n",
    "    list_prod_category.append(categories)\n",
    "#crate list of category which have same length with product name\n",
    "name_of_category = list(np.array(list_prod_category).flatten())\n"
   ]
  },
  {
   "cell_type": "markdown",
   "metadata": {},
   "source": [
    "<h4><b>Halaman ke-3</b></h4>"
   ]
  },
  {
   "cell_type": "code",
   "execution_count": 5,
   "metadata": {},
   "outputs": [
    {
     "name": "stderr",
     "output_type": "stream",
     "text": [
      "100%|██████████| 20/20 [02:14<00:00,  6.74s/it]\n"
     ]
    }
   ],
   "source": [
    "import datetime\n",
    "from dateutil import parser\n",
    "\n",
    "list_of_reviewer = []\n",
    "list_of_date = []\n",
    "list_of_star = []\n",
    "list_of_recommends = []\n",
    "list_of_product_name = []\n",
    "list_of_product_category = []\n",
    "date_now =[]\n",
    "list_href_prod_save = []\n",
    "list_of_review = []\n",
    "href_prod = []\n",
    "\n",
    "for i in tqdm(range(len(list_href_product))):\n",
    "    x = list_href_product[i][:-1]\n",
    "    prod_name = list_of_product[i]\n",
    "    category_name = name_of_category[i]\n",
    "    href_prod = list_href_product[i].split(\"?\")[0]\n",
    "    time.sleep(5)\n",
    "    for page in range(1,11):\n",
    "        try:\n",
    "            total_review = 0\n",
    "            source = requests.get(x+str(page))\n",
    "            data_review = BeautifulSoup(source.content, 'html.parser')\n",
    "            body_review = data_review.find('body')\n",
    "            div_review = body_review.find(\"div\",{\"class\":\"jsx-807469956 d-flex review-content-container\"})\n",
    "            for div in div_review.find_all(\"div\",attrs = {\"class\":\"jsx-807469956 item\"}):\n",
    "                 for rev in div.find_all(\"div\",attrs = {\"class\":\"review-detail d-flex\"}):\n",
    "                        total_review += 1\n",
    "                        #get the reviewer name\n",
    "                        reviewer = rev.find(\"div\",attrs = {\"class\":\"profile-wrapper\"})\n",
    "                        review_text = rev.find(\"p\",attrs = {\"class\":\"text-content\"})\n",
    "                        list_of_reviewer.append(reviewer.p.a.text)\n",
    "                        list_of_review.append(review_text.text)\n",
    "                        #get the reviewer recommendation\n",
    "                        star_root = rev.find(\"span\",attrs = {\"class\":\"cardrv-starlist\"})\n",
    "                        recommends_root = rev.find_all(\"i\",attrs = {\"class\":\"icon-ic_thumbs_up\"})\n",
    "                        no_recommends_root = rev.find_all(\"i\",attrs = {\"class\":\"icon-ic_thumbs_down\"})\n",
    "                        if recommends_root:\n",
    "                            recommends = \"Yes\"\n",
    "                        elif no_recommends_root:\n",
    "                            recommends = \"No\"\n",
    "                        else:\n",
    "                            recommends = \"Null\"\n",
    "                        list_of_recommends.append(recommends)\n",
    "                        #get count of stars\n",
    "                        star = star_root.find_all(\"i\",attrs = {\"class\":\"icon-ic_big_star_full\"})\n",
    "                        list_of_star.append(len(star))\n",
    "                        #get date\n",
    "                        date_root = rev.find(\"p\",attrs = {\"class\":\"date review-date\"})\n",
    "                        list_of_date.append(date_root.text)\n",
    "                        date_now.append(datetime.datetime.now())\n",
    "            list_of_product_name = np.append(list_of_product_name, np.array([prod_name] * total_review))\n",
    "            list_href_prod_save = np.append(list_href_prod_save, np.array([href_prod]*total_review))\n",
    "            list_of_product_category = np.append(list_of_product_category, np.array([category_name] * total_review))\n",
    "           \n",
    "        except:\n",
    "            break"
   ]
  },
  {
   "cell_type": "markdown",
   "metadata": {},
   "source": [
    "<h4><b>Hasil Akhir</b></h4>\n",
    "Ubah dan gabung list yang ada kedalam bentuk CSV format"
   ]
  },
  {
   "cell_type": "code",
   "execution_count": null,
   "metadata": {},
   "outputs": [],
   "source": [
    "df = pd.DataFrame(list(zip(list_of_reviewer,list_of_recommends,list_of_star,list_of_date,date_now,list_href_prod_save,list_of_review)),\n",
    "             columns=['Reviewer', 'Recommend', 'Stars', 'Date','Date Scrape','url','text'])"
   ]
  },
  {
   "cell_type": "code",
   "execution_count": null,
   "metadata": {},
   "outputs": [],
   "source": [
    "df.to_csv(\"Female Daily Skincare Review Final.csv\", index=False, header=True)"
   ]
  },
  {
   "cell_type": "markdown",
   "metadata": {},
   "source": [
    "# Explorasi, Analisis, dan Visualisasi"
   ]
  },
  {
   "cell_type": "markdown",
   "metadata": {},
   "source": [
    "<div style=\"text-align:justify\">Setelah mendapatkan data dari proses scraping, langkah selanjutnya adalah melakukan explorasi, analisis dan visualisasi pada data. Hal ini bertujuan untuk menggali informasi lebih dalam tentang data review pada Femaledaily agar menghasilkan <i>output</i> berupa informasi yang bermanfaat bagi pembaca khususnya pecinta produk <i>skincare.</i></div>\n"
   ]
  },
  {
   "cell_type": "markdown",
   "metadata": {},
   "source": [
    "<h4><b>Import and Read CSV File</b></h4>"
   ]
  },
  {
   "cell_type": "code",
   "execution_count": 457,
   "metadata": {},
   "outputs": [],
   "source": [
    "femaledaily = pd.read_csv(\"Female Daily Skincare Review Final.csv\")"
   ]
  },
  {
   "cell_type": "code",
   "execution_count": 458,
   "metadata": {},
   "outputs": [
    {
     "data": {
      "text/html": [
       "<div>\n",
       "<style scoped>\n",
       "    .dataframe tbody tr th:only-of-type {\n",
       "        vertical-align: middle;\n",
       "    }\n",
       "\n",
       "    .dataframe tbody tr th {\n",
       "        vertical-align: top;\n",
       "    }\n",
       "\n",
       "    .dataframe thead th {\n",
       "        text-align: right;\n",
       "    }\n",
       "</style>\n",
       "<table border=\"1\" class=\"dataframe\">\n",
       "  <thead>\n",
       "    <tr style=\"text-align: right;\">\n",
       "      <th></th>\n",
       "      <th>Reviewer</th>\n",
       "      <th>Recommend</th>\n",
       "      <th>Stars</th>\n",
       "      <th>Date</th>\n",
       "      <th>Product</th>\n",
       "      <th>Category</th>\n",
       "      <th>Date Scrape</th>\n",
       "      <th>Url</th>\n",
       "    </tr>\n",
       "  </thead>\n",
       "  <tbody>\n",
       "    <tr>\n",
       "      <td>0</td>\n",
       "      <td>Ayuika</td>\n",
       "      <td>No</td>\n",
       "      <td>3</td>\n",
       "      <td>5 days ago</td>\n",
       "      <td>Perfect 3D Gel</td>\n",
       "      <td>Night Cream</td>\n",
       "      <td>2020-02-24 13:35:12.875052</td>\n",
       "      <td>https://reviews.femaledaily.com/products/moist...</td>\n",
       "    </tr>\n",
       "    <tr>\n",
       "      <td>1</td>\n",
       "      <td>yustinalupit</td>\n",
       "      <td>Yes</td>\n",
       "      <td>4</td>\n",
       "      <td>16 Feb 2020</td>\n",
       "      <td>Perfect 3D Gel</td>\n",
       "      <td>Night Cream</td>\n",
       "      <td>2020-02-24 13:35:12.876053</td>\n",
       "      <td>https://reviews.femaledaily.com/products/moist...</td>\n",
       "    </tr>\n",
       "    <tr>\n",
       "      <td>2</td>\n",
       "      <td>evikdanny</td>\n",
       "      <td>No</td>\n",
       "      <td>3</td>\n",
       "      <td>13 Feb 2020</td>\n",
       "      <td>Perfect 3D Gel</td>\n",
       "      <td>Night Cream</td>\n",
       "      <td>2020-02-24 13:35:12.878054</td>\n",
       "      <td>https://reviews.femaledaily.com/products/moist...</td>\n",
       "    </tr>\n",
       "    <tr>\n",
       "      <td>3</td>\n",
       "      <td>daniskhoirun</td>\n",
       "      <td>Yes</td>\n",
       "      <td>3</td>\n",
       "      <td>08 Feb 2020</td>\n",
       "      <td>Perfect 3D Gel</td>\n",
       "      <td>Night Cream</td>\n",
       "      <td>2020-02-24 13:35:12.880038</td>\n",
       "      <td>https://reviews.femaledaily.com/products/moist...</td>\n",
       "    </tr>\n",
       "    <tr>\n",
       "      <td>4</td>\n",
       "      <td>hulahup19</td>\n",
       "      <td>Yes</td>\n",
       "      <td>5</td>\n",
       "      <td>08 Feb 2020</td>\n",
       "      <td>Perfect 3D Gel</td>\n",
       "      <td>Night Cream</td>\n",
       "      <td>2020-02-24 13:35:12.882056</td>\n",
       "      <td>https://reviews.femaledaily.com/products/moist...</td>\n",
       "    </tr>\n",
       "    <tr>\n",
       "      <td>...</td>\n",
       "      <td>...</td>\n",
       "      <td>...</td>\n",
       "      <td>...</td>\n",
       "      <td>...</td>\n",
       "      <td>...</td>\n",
       "      <td>...</td>\n",
       "      <td>...</td>\n",
       "      <td>...</td>\n",
       "    </tr>\n",
       "    <tr>\n",
       "      <td>164239</td>\n",
       "      <td>steph91</td>\n",
       "      <td>Null</td>\n",
       "      <td>4</td>\n",
       "      <td>06 Nov 2015</td>\n",
       "      <td>Ultra Rapid Action Pad</td>\n",
       "      <td>Toner</td>\n",
       "      <td>2020-02-25 17:01:06.755206</td>\n",
       "      <td>https://reviews.femaledaily.com/products/clean...</td>\n",
       "    </tr>\n",
       "    <tr>\n",
       "      <td>164240</td>\n",
       "      <td>farishaalamsyah</td>\n",
       "      <td>Null</td>\n",
       "      <td>1</td>\n",
       "      <td>27 Oct 2015</td>\n",
       "      <td>Ultra Rapid Action Pad</td>\n",
       "      <td>Toner</td>\n",
       "      <td>2020-02-25 17:01:06.757207</td>\n",
       "      <td>https://reviews.femaledaily.com/products/clean...</td>\n",
       "    </tr>\n",
       "    <tr>\n",
       "      <td>164241</td>\n",
       "      <td>imeldanababan</td>\n",
       "      <td>Null</td>\n",
       "      <td>4</td>\n",
       "      <td>28 Sep 2015</td>\n",
       "      <td>Ultra Rapid Action Pad</td>\n",
       "      <td>Toner</td>\n",
       "      <td>2020-02-25 17:01:06.759209</td>\n",
       "      <td>https://reviews.femaledaily.com/products/clean...</td>\n",
       "    </tr>\n",
       "    <tr>\n",
       "      <td>164242</td>\n",
       "      <td>princessvie</td>\n",
       "      <td>Null</td>\n",
       "      <td>3</td>\n",
       "      <td>23 Sep 2015</td>\n",
       "      <td>Ultra Rapid Action Pad</td>\n",
       "      <td>Toner</td>\n",
       "      <td>2020-02-25 17:01:07.132358</td>\n",
       "      <td>https://reviews.femaledaily.com/products/clean...</td>\n",
       "    </tr>\n",
       "    <tr>\n",
       "      <td>164243</td>\n",
       "      <td>nucky</td>\n",
       "      <td>Null</td>\n",
       "      <td>2</td>\n",
       "      <td>21 Sep 2015</td>\n",
       "      <td>Ultra Rapid Action Pad</td>\n",
       "      <td>Toner</td>\n",
       "      <td>2020-02-25 17:01:07.134360</td>\n",
       "      <td>https://reviews.femaledaily.com/products/clean...</td>\n",
       "    </tr>\n",
       "  </tbody>\n",
       "</table>\n",
       "<p>164244 rows × 8 columns</p>\n",
       "</div>"
      ],
      "text/plain": [
       "               Reviewer Recommend  Stars         Date                 Product  \\\n",
       "0                Ayuika        No      3   5 days ago          Perfect 3D Gel   \n",
       "1          yustinalupit       Yes      4  16 Feb 2020          Perfect 3D Gel   \n",
       "2             evikdanny        No      3  13 Feb 2020          Perfect 3D Gel   \n",
       "3          daniskhoirun       Yes      3  08 Feb 2020          Perfect 3D Gel   \n",
       "4             hulahup19       Yes      5  08 Feb 2020          Perfect 3D Gel   \n",
       "...                 ...       ...    ...          ...                     ...   \n",
       "164239          steph91      Null      4  06 Nov 2015  Ultra Rapid Action Pad   \n",
       "164240  farishaalamsyah      Null      1  27 Oct 2015  Ultra Rapid Action Pad   \n",
       "164241    imeldanababan      Null      4  28 Sep 2015  Ultra Rapid Action Pad   \n",
       "164242      princessvie      Null      3  23 Sep 2015  Ultra Rapid Action Pad   \n",
       "164243            nucky      Null      2  21 Sep 2015  Ultra Rapid Action Pad   \n",
       "\n",
       "           Category                 Date Scrape  \\\n",
       "0       Night Cream  2020-02-24 13:35:12.875052   \n",
       "1       Night Cream  2020-02-24 13:35:12.876053   \n",
       "2       Night Cream  2020-02-24 13:35:12.878054   \n",
       "3       Night Cream  2020-02-24 13:35:12.880038   \n",
       "4       Night Cream  2020-02-24 13:35:12.882056   \n",
       "...             ...                         ...   \n",
       "164239        Toner  2020-02-25 17:01:06.755206   \n",
       "164240        Toner  2020-02-25 17:01:06.757207   \n",
       "164241        Toner  2020-02-25 17:01:06.759209   \n",
       "164242        Toner  2020-02-25 17:01:07.132358   \n",
       "164243        Toner  2020-02-25 17:01:07.134360   \n",
       "\n",
       "                                                      Url  \n",
       "0       https://reviews.femaledaily.com/products/moist...  \n",
       "1       https://reviews.femaledaily.com/products/moist...  \n",
       "2       https://reviews.femaledaily.com/products/moist...  \n",
       "3       https://reviews.femaledaily.com/products/moist...  \n",
       "4       https://reviews.femaledaily.com/products/moist...  \n",
       "...                                                   ...  \n",
       "164239  https://reviews.femaledaily.com/products/clean...  \n",
       "164240  https://reviews.femaledaily.com/products/clean...  \n",
       "164241  https://reviews.femaledaily.com/products/clean...  \n",
       "164242  https://reviews.femaledaily.com/products/clean...  \n",
       "164243  https://reviews.femaledaily.com/products/clean...  \n",
       "\n",
       "[164244 rows x 8 columns]"
      ]
     },
     "execution_count": 458,
     "metadata": {},
     "output_type": "execute_result"
    }
   ],
   "source": [
    "femaledaily"
   ]
  },
  {
   "cell_type": "markdown",
   "metadata": {},
   "source": [
    "<h4><b>Melihat dimensi dan ukuran pada data</b></h4>"
   ]
  },
  {
   "cell_type": "code",
   "execution_count": 459,
   "metadata": {},
   "outputs": [
    {
     "name": "stdout",
     "output_type": "stream",
     "text": [
      "(164244, 8)\n",
      "1313952\n"
     ]
    }
   ],
   "source": [
    "print(femaledaily.shape)\n",
    "print(femaledaily.size)"
   ]
  },
  {
   "cell_type": "markdown",
   "metadata": {},
   "source": [
    "<div style=\"text-align:justify\">Dari hasil diatas dapat diketahui bahwa data review Femaledaily memiliki 164244 baris dan 8 kolom. Dimana masing-masing kolom memuat informasi yang berbeda. Berikut adalah detail informasi pada kolom:</div>\n",
    "\n",
    "* Reviewer     : Nama reviewer yang melakukan review pada produk skincare.\n",
    "* Recommend    : Testimoni yang diberikan oleh reviewer apakah mereka merekomendasikan produk tersebut atau tidak (Null = tidak merekomendasikan iya/tidak ; Yes = merekomendasikan produk tersebut ; No = tidak merekomendasikan produk tersebut)\n",
    "* Stars        : Bintang yang diberikan pada produk\n",
    "* Date         : Tanggal seorang reviewer melakukan review\n",
    "* Product      : Nama produk yang direview\n",
    "* Category     : Nama kategori produk yang direview\n",
    "* Date Scrape  : Tanggal penarikan data (kolom ini bermanfaat ketika akan melakukan konversi tanggal pada kolom \"Date\", hasil pengurangan \"Data Scrape\" dengan \"Date\" pada format datetime akan menghasilkan informasi kapan seorang reviewer memberikan review pada produk).\n",
    "* Url          : Alamat URL pada masing-masing halaman"
   ]
  },
  {
   "cell_type": "markdown",
   "metadata": {},
   "source": [
    "<h4><b>Melakukan <i>renaming</i> pada kolom</b></h4>"
   ]
  },
  {
   "cell_type": "code",
   "execution_count": 460,
   "metadata": {},
   "outputs": [],
   "source": [
    "femaledaily.rename(columns ={\"Reviewer\":\"reviewer\",\"Recommend\":\"recommend\",\"Stars\":\"stars\",\"Date\":\"date\",\"Product\":\"product\",\n",
    "                            \"Category\":\"category\",\"Date Scrape\":\"date_scrape\",\"Url\":\"url\"}, inplace=True)"
   ]
  },
  {
   "cell_type": "markdown",
   "metadata": {},
   "source": [
    "<h4><b>Melakukan pengecekan dan penggantian tipe data</b></h4>"
   ]
  },
  {
   "cell_type": "code",
   "execution_count": 461,
   "metadata": {},
   "outputs": [
    {
     "data": {
      "text/plain": [
       "reviewer       object\n",
       "recommend      object\n",
       "stars           int64\n",
       "date           object\n",
       "product        object\n",
       "category       object\n",
       "date_scrape    object\n",
       "url            object\n",
       "dtype: object"
      ]
     },
     "execution_count": 461,
     "metadata": {},
     "output_type": "execute_result"
    }
   ],
   "source": [
    "femaledaily.dtypes"
   ]
  },
  {
   "cell_type": "markdown",
   "metadata": {},
   "source": [
    "<div style=\"text-align:justify\">Hasil diatas menunjukkan bahwa terdapat beberapa kolom memiliki tipe data yang tidak sesuai. Kita harus melakukan penggantian tipe data agar sesuai pada masing-masing kolom. </div> "
   ]
  },
  {
   "cell_type": "code",
   "execution_count": 462,
   "metadata": {},
   "outputs": [],
   "source": [
    "#Recommend and Category should be category\n",
    "#Date Scrape and Date Convert should be datetime\n",
    "femaledaily[['recommend','category']] = femaledaily[['recommend','category']].astype('category')\n",
    "femaledaily['date_scrape'] = pd.to_datetime(femaledaily['date_scrape'])"
   ]
  },
  {
   "cell_type": "code",
   "execution_count": 463,
   "metadata": {},
   "outputs": [
    {
     "data": {
      "text/plain": [
       "reviewer               object\n",
       "recommend            category\n",
       "stars                   int64\n",
       "date                   object\n",
       "product                object\n",
       "category             category\n",
       "date_scrape    datetime64[ns]\n",
       "url                    object\n",
       "dtype: object"
      ]
     },
     "execution_count": 463,
     "metadata": {},
     "output_type": "execute_result"
    }
   ],
   "source": [
    "femaledaily.dtypes"
   ]
  },
  {
   "cell_type": "markdown",
   "metadata": {},
   "source": [
    "<h4><b>Melakukan pengecekan dan penanganan pada <i>missing value</i></b></h4>\n",
    "<div style=\"text-align:justify\">Langkah selanjutnya adalah melakukan pengecekan dan penghapusan terhadap <i>missing value.</i></div>"
   ]
  },
  {
   "cell_type": "code",
   "execution_count": 464,
   "metadata": {},
   "outputs": [
    {
     "data": {
      "text/plain": [
       "reviewer       2\n",
       "recommend      0\n",
       "stars          0\n",
       "date           0\n",
       "product        0\n",
       "category       0\n",
       "date_scrape    0\n",
       "url            0\n",
       "dtype: int64"
      ]
     },
     "execution_count": 464,
     "metadata": {},
     "output_type": "execute_result"
    }
   ],
   "source": [
    "femaledaily.isna().sum()"
   ]
  },
  {
   "cell_type": "code",
   "execution_count": 465,
   "metadata": {},
   "outputs": [],
   "source": [
    "#Drop Missing Values\n",
    "femdaily = femaledaily.dropna()"
   ]
  },
  {
   "cell_type": "markdown",
   "metadata": {},
   "source": [
    "<h4><b>Melakukan pengecekan dan penanganan pada data yang berulang <i>duplicated data.</i></b></h4>\n",
    "<div style=\"text-align:justify\">Setelah melakukan pengecekan dan penanganan pada <i>missing value</i>, lakukan juga pengecekan dan penanganan pada data data yang berulang.</div>"
   ]
  },
  {
   "cell_type": "code",
   "execution_count": 467,
   "metadata": {},
   "outputs": [
    {
     "data": {
      "text/plain": [
       "8105"
      ]
     },
     "execution_count": 467,
     "metadata": {},
     "output_type": "execute_result"
    }
   ],
   "source": [
    "femdaily.duplicated().sum()"
   ]
  },
  {
   "cell_type": "code",
   "execution_count": 468,
   "metadata": {},
   "outputs": [
    {
     "data": {
      "text/html": [
       "<div>\n",
       "<style scoped>\n",
       "    .dataframe tbody tr th:only-of-type {\n",
       "        vertical-align: middle;\n",
       "    }\n",
       "\n",
       "    .dataframe tbody tr th {\n",
       "        vertical-align: top;\n",
       "    }\n",
       "\n",
       "    .dataframe thead th {\n",
       "        text-align: right;\n",
       "    }\n",
       "</style>\n",
       "<table border=\"1\" class=\"dataframe\">\n",
       "  <thead>\n",
       "    <tr style=\"text-align: right;\">\n",
       "      <th></th>\n",
       "      <th>reviewer</th>\n",
       "      <th>recommend</th>\n",
       "      <th>stars</th>\n",
       "      <th>date</th>\n",
       "      <th>product</th>\n",
       "      <th>category</th>\n",
       "      <th>date_scrape</th>\n",
       "      <th>url</th>\n",
       "    </tr>\n",
       "  </thead>\n",
       "  <tbody>\n",
       "    <tr>\n",
       "      <td>8015</td>\n",
       "      <td>fikriaaa</td>\n",
       "      <td>Null</td>\n",
       "      <td>5</td>\n",
       "      <td>21 Dec 2017</td>\n",
       "      <td>Mid-Day Miracle Essence</td>\n",
       "      <td>Face Mist</td>\n",
       "      <td>2020-02-24 14:18:02.854962</td>\n",
       "      <td>https://reviews.femaledaily.com/products/moist...</td>\n",
       "    </tr>\n",
       "    <tr>\n",
       "      <td>8016</td>\n",
       "      <td>fikriaaa</td>\n",
       "      <td>Null</td>\n",
       "      <td>5</td>\n",
       "      <td>21 Dec 2017</td>\n",
       "      <td>Mid-Day Miracle Essence</td>\n",
       "      <td>Face Mist</td>\n",
       "      <td>2020-02-24 14:18:02.854962</td>\n",
       "      <td>https://reviews.femaledaily.com/products/moist...</td>\n",
       "    </tr>\n",
       "    <tr>\n",
       "      <td>8780</td>\n",
       "      <td>Karesian17</td>\n",
       "      <td>Null</td>\n",
       "      <td>5</td>\n",
       "      <td>06 Jul 2018</td>\n",
       "      <td>Water Science Mist</td>\n",
       "      <td>Face Mist</td>\n",
       "      <td>2020-02-24 14:25:23.363466</td>\n",
       "      <td>https://reviews.femaledaily.com/products/moist...</td>\n",
       "    </tr>\n",
       "    <tr>\n",
       "      <td>8781</td>\n",
       "      <td>Karesian17</td>\n",
       "      <td>Null</td>\n",
       "      <td>5</td>\n",
       "      <td>06 Jul 2018</td>\n",
       "      <td>Water Science Mist</td>\n",
       "      <td>Face Mist</td>\n",
       "      <td>2020-02-24 14:25:23.363466</td>\n",
       "      <td>https://reviews.femaledaily.com/products/moist...</td>\n",
       "    </tr>\n",
       "    <tr>\n",
       "      <td>9704</td>\n",
       "      <td>yeen1795</td>\n",
       "      <td>Null</td>\n",
       "      <td>5</td>\n",
       "      <td>05 Aug 2019</td>\n",
       "      <td>Pearly White UV Essence Cream</td>\n",
       "      <td>Day Cream</td>\n",
       "      <td>2020-02-24 15:03:22.477697</td>\n",
       "      <td>https://reviews.femaledaily.com/products/moist...</td>\n",
       "    </tr>\n",
       "    <tr>\n",
       "      <td>9705</td>\n",
       "      <td>yeen1795</td>\n",
       "      <td>Null</td>\n",
       "      <td>5</td>\n",
       "      <td>05 Aug 2019</td>\n",
       "      <td>Pearly White UV Essence Cream</td>\n",
       "      <td>Day Cream</td>\n",
       "      <td>2020-02-24 15:03:22.477697</td>\n",
       "      <td>https://reviews.femaledaily.com/products/moist...</td>\n",
       "    </tr>\n",
       "    <tr>\n",
       "      <td>9715</td>\n",
       "      <td>windaliffia</td>\n",
       "      <td>Null</td>\n",
       "      <td>3</td>\n",
       "      <td>11 Jul 2019</td>\n",
       "      <td>Pearly White UV Essence Cream</td>\n",
       "      <td>Day Cream</td>\n",
       "      <td>2020-02-24 15:03:22.987164</td>\n",
       "      <td>https://reviews.femaledaily.com/products/moist...</td>\n",
       "    </tr>\n",
       "    <tr>\n",
       "      <td>9716</td>\n",
       "      <td>windaliffia</td>\n",
       "      <td>Null</td>\n",
       "      <td>3</td>\n",
       "      <td>11 Jul 2019</td>\n",
       "      <td>Pearly White UV Essence Cream</td>\n",
       "      <td>Day Cream</td>\n",
       "      <td>2020-02-24 15:03:22.987164</td>\n",
       "      <td>https://reviews.femaledaily.com/products/moist...</td>\n",
       "    </tr>\n",
       "    <tr>\n",
       "      <td>10428</td>\n",
       "      <td>AyaNagi</td>\n",
       "      <td>Null</td>\n",
       "      <td>4</td>\n",
       "      <td>06 Jul 2019</td>\n",
       "      <td>Light Complete White Speed Yuzu Whitening Seru...</td>\n",
       "      <td>Day Cream</td>\n",
       "      <td>2020-02-24 15:04:36.029492</td>\n",
       "      <td>https://reviews.femaledaily.com/products/moist...</td>\n",
       "    </tr>\n",
       "    <tr>\n",
       "      <td>10429</td>\n",
       "      <td>AyaNagi</td>\n",
       "      <td>Null</td>\n",
       "      <td>4</td>\n",
       "      <td>06 Jul 2019</td>\n",
       "      <td>Light Complete White Speed Yuzu Whitening Seru...</td>\n",
       "      <td>Day Cream</td>\n",
       "      <td>2020-02-24 15:04:36.029492</td>\n",
       "      <td>https://reviews.femaledaily.com/products/moist...</td>\n",
       "    </tr>\n",
       "  </tbody>\n",
       "</table>\n",
       "</div>"
      ],
      "text/plain": [
       "          reviewer recommend  stars         date  \\\n",
       "8015      fikriaaa      Null      5  21 Dec 2017   \n",
       "8016      fikriaaa      Null      5  21 Dec 2017   \n",
       "8780    Karesian17      Null      5  06 Jul 2018   \n",
       "8781    Karesian17      Null      5  06 Jul 2018   \n",
       "9704      yeen1795      Null      5  05 Aug 2019   \n",
       "9705      yeen1795      Null      5  05 Aug 2019   \n",
       "9715   windaliffia      Null      3  11 Jul 2019   \n",
       "9716   windaliffia      Null      3  11 Jul 2019   \n",
       "10428      AyaNagi      Null      4  06 Jul 2019   \n",
       "10429      AyaNagi      Null      4  06 Jul 2019   \n",
       "\n",
       "                                                 product   category  \\\n",
       "8015                             Mid-Day Miracle Essence  Face Mist   \n",
       "8016                             Mid-Day Miracle Essence  Face Mist   \n",
       "8780                                  Water Science Mist  Face Mist   \n",
       "8781                                  Water Science Mist  Face Mist   \n",
       "9704                       Pearly White UV Essence Cream  Day Cream   \n",
       "9705                       Pearly White UV Essence Cream  Day Cream   \n",
       "9715                       Pearly White UV Essence Cream  Day Cream   \n",
       "9716                       Pearly White UV Essence Cream  Day Cream   \n",
       "10428  Light Complete White Speed Yuzu Whitening Seru...  Day Cream   \n",
       "10429  Light Complete White Speed Yuzu Whitening Seru...  Day Cream   \n",
       "\n",
       "                     date_scrape  \\\n",
       "8015  2020-02-24 14:18:02.854962   \n",
       "8016  2020-02-24 14:18:02.854962   \n",
       "8780  2020-02-24 14:25:23.363466   \n",
       "8781  2020-02-24 14:25:23.363466   \n",
       "9704  2020-02-24 15:03:22.477697   \n",
       "9705  2020-02-24 15:03:22.477697   \n",
       "9715  2020-02-24 15:03:22.987164   \n",
       "9716  2020-02-24 15:03:22.987164   \n",
       "10428 2020-02-24 15:04:36.029492   \n",
       "10429 2020-02-24 15:04:36.029492   \n",
       "\n",
       "                                                     url  \n",
       "8015   https://reviews.femaledaily.com/products/moist...  \n",
       "8016   https://reviews.femaledaily.com/products/moist...  \n",
       "8780   https://reviews.femaledaily.com/products/moist...  \n",
       "8781   https://reviews.femaledaily.com/products/moist...  \n",
       "9704   https://reviews.femaledaily.com/products/moist...  \n",
       "9705   https://reviews.femaledaily.com/products/moist...  \n",
       "9715   https://reviews.femaledaily.com/products/moist...  \n",
       "9716   https://reviews.femaledaily.com/products/moist...  \n",
       "10428  https://reviews.femaledaily.com/products/moist...  \n",
       "10429  https://reviews.femaledaily.com/products/moist...  "
      ]
     },
     "execution_count": 468,
     "metadata": {},
     "output_type": "execute_result"
    }
   ],
   "source": [
    "femdaily[femdaily.duplicated(keep = False)].head(10)"
   ]
  },
  {
   "cell_type": "code",
   "execution_count": 469,
   "metadata": {},
   "outputs": [
    {
     "name": "stderr",
     "output_type": "stream",
     "text": [
      "C:\\Users\\litaimut\\Anaconda3\\lib\\site-packages\\ipykernel_launcher.py:1: SettingWithCopyWarning: \n",
      "A value is trying to be set on a copy of a slice from a DataFrame\n",
      "\n",
      "See the caveats in the documentation: http://pandas.pydata.org/pandas-docs/stable/user_guide/indexing.html#returning-a-view-versus-a-copy\n",
      "  \"\"\"Entry point for launching an IPython kernel.\n"
     ]
    }
   ],
   "source": [
    "femdaily.drop_duplicates(keep = \"first\", inplace=True)"
   ]
  },
  {
   "cell_type": "code",
   "execution_count": 471,
   "metadata": {
    "scrolled": false
   },
   "outputs": [
    {
     "data": {
      "text/plain": [
       "0"
      ]
     },
     "execution_count": 471,
     "metadata": {},
     "output_type": "execute_result"
    }
   ],
   "source": [
    "femdaily.duplicated().sum()"
   ]
  },
  {
   "cell_type": "markdown",
   "metadata": {},
   "source": [
    "<h4><b>Melakukan konversi pada kolom \"date\" menjadi format <i>datetime</i></b></h4>\n"
   ]
  },
  {
   "cell_type": "code",
   "execution_count": 472,
   "metadata": {},
   "outputs": [],
   "source": [
    "date_fm = femdaily['date'].to_list()"
   ]
  },
  {
   "cell_type": "code",
   "execution_count": 473,
   "metadata": {},
   "outputs": [],
   "source": [
    "dictarray = {\n",
    "  'a day ago':'1 days ago',\n",
    "  'an hour ago':'1 hours ago',\n",
    "   }\n",
    "subs = sorted(dictarray.items(), key=lambda pair: len(pair[1]), reverse=True)\n",
    "def replace_first(s, subs):\n",
    "    for old, new in subs:\n",
    "        if s.startswith(old):\n",
    "             return s.replace(old, new, 1)\n",
    "    return s\n",
    "new_list_date = [replace_first(s, subs) for s in date_fm]\n",
    "            "
   ]
  },
  {
   "cell_type": "code",
   "execution_count": 474,
   "metadata": {},
   "outputs": [],
   "source": [
    "import datetime\n",
    "from dateutil import parser\n",
    "\n",
    "parsed_s = []\n",
    "parsed_date = []\n",
    "for i in new_list_date:\n",
    "    if(i[-3:] == \"ago\") :\n",
    "        amount, fmt = i.split()[:2]\n",
    "        time_dict = {fmt: float(amount)}\n",
    "        dt = datetime.timedelta(**time_dict)\n",
    "        past_time = femdaily['date_scrape'][1]- dt\n",
    "    else :\n",
    "        past_time = parser.parse(i).date()\n",
    "    parsed_date.append(past_time)\n"
   ]
  },
  {
   "cell_type": "code",
   "execution_count": 475,
   "metadata": {},
   "outputs": [
    {
     "name": "stderr",
     "output_type": "stream",
     "text": [
      "C:\\Users\\litaimut\\Anaconda3\\lib\\site-packages\\ipykernel_launcher.py:1: SettingWithCopyWarning: \n",
      "A value is trying to be set on a copy of a slice from a DataFrame.\n",
      "Try using .loc[row_indexer,col_indexer] = value instead\n",
      "\n",
      "See the caveats in the documentation: http://pandas.pydata.org/pandas-docs/stable/user_guide/indexing.html#returning-a-view-versus-a-copy\n",
      "  \"\"\"Entry point for launching an IPython kernel.\n"
     ]
    },
    {
     "data": {
      "text/html": [
       "<div>\n",
       "<style scoped>\n",
       "    .dataframe tbody tr th:only-of-type {\n",
       "        vertical-align: middle;\n",
       "    }\n",
       "\n",
       "    .dataframe tbody tr th {\n",
       "        vertical-align: top;\n",
       "    }\n",
       "\n",
       "    .dataframe thead th {\n",
       "        text-align: right;\n",
       "    }\n",
       "</style>\n",
       "<table border=\"1\" class=\"dataframe\">\n",
       "  <thead>\n",
       "    <tr style=\"text-align: right;\">\n",
       "      <th></th>\n",
       "      <th>reviewer</th>\n",
       "      <th>recommend</th>\n",
       "      <th>stars</th>\n",
       "      <th>date</th>\n",
       "      <th>product</th>\n",
       "      <th>category</th>\n",
       "      <th>date_scrape</th>\n",
       "      <th>url</th>\n",
       "      <th>date_convert</th>\n",
       "    </tr>\n",
       "  </thead>\n",
       "  <tbody>\n",
       "    <tr>\n",
       "      <td>0</td>\n",
       "      <td>Ayuika</td>\n",
       "      <td>No</td>\n",
       "      <td>3</td>\n",
       "      <td>5 days ago</td>\n",
       "      <td>Perfect 3D Gel</td>\n",
       "      <td>Night Cream</td>\n",
       "      <td>2020-02-24 13:35:12.875052</td>\n",
       "      <td>https://reviews.femaledaily.com/products/moist...</td>\n",
       "      <td>2020-02-19 13:35:12.876053</td>\n",
       "    </tr>\n",
       "    <tr>\n",
       "      <td>1</td>\n",
       "      <td>yustinalupit</td>\n",
       "      <td>Yes</td>\n",
       "      <td>4</td>\n",
       "      <td>16 Feb 2020</td>\n",
       "      <td>Perfect 3D Gel</td>\n",
       "      <td>Night Cream</td>\n",
       "      <td>2020-02-24 13:35:12.876053</td>\n",
       "      <td>https://reviews.femaledaily.com/products/moist...</td>\n",
       "      <td>2020-02-16 00:00:00.000000</td>\n",
       "    </tr>\n",
       "    <tr>\n",
       "      <td>2</td>\n",
       "      <td>evikdanny</td>\n",
       "      <td>No</td>\n",
       "      <td>3</td>\n",
       "      <td>13 Feb 2020</td>\n",
       "      <td>Perfect 3D Gel</td>\n",
       "      <td>Night Cream</td>\n",
       "      <td>2020-02-24 13:35:12.878054</td>\n",
       "      <td>https://reviews.femaledaily.com/products/moist...</td>\n",
       "      <td>2020-02-13 00:00:00.000000</td>\n",
       "    </tr>\n",
       "    <tr>\n",
       "      <td>3</td>\n",
       "      <td>daniskhoirun</td>\n",
       "      <td>Yes</td>\n",
       "      <td>3</td>\n",
       "      <td>08 Feb 2020</td>\n",
       "      <td>Perfect 3D Gel</td>\n",
       "      <td>Night Cream</td>\n",
       "      <td>2020-02-24 13:35:12.880038</td>\n",
       "      <td>https://reviews.femaledaily.com/products/moist...</td>\n",
       "      <td>2020-02-08 00:00:00.000000</td>\n",
       "    </tr>\n",
       "    <tr>\n",
       "      <td>4</td>\n",
       "      <td>hulahup19</td>\n",
       "      <td>Yes</td>\n",
       "      <td>5</td>\n",
       "      <td>08 Feb 2020</td>\n",
       "      <td>Perfect 3D Gel</td>\n",
       "      <td>Night Cream</td>\n",
       "      <td>2020-02-24 13:35:12.882056</td>\n",
       "      <td>https://reviews.femaledaily.com/products/moist...</td>\n",
       "      <td>2020-02-08 00:00:00.000000</td>\n",
       "    </tr>\n",
       "    <tr>\n",
       "      <td>...</td>\n",
       "      <td>...</td>\n",
       "      <td>...</td>\n",
       "      <td>...</td>\n",
       "      <td>...</td>\n",
       "      <td>...</td>\n",
       "      <td>...</td>\n",
       "      <td>...</td>\n",
       "      <td>...</td>\n",
       "      <td>...</td>\n",
       "    </tr>\n",
       "    <tr>\n",
       "      <td>164239</td>\n",
       "      <td>steph91</td>\n",
       "      <td>Null</td>\n",
       "      <td>4</td>\n",
       "      <td>06 Nov 2015</td>\n",
       "      <td>Ultra Rapid Action Pad</td>\n",
       "      <td>Toner</td>\n",
       "      <td>2020-02-25 17:01:06.755206</td>\n",
       "      <td>https://reviews.femaledaily.com/products/clean...</td>\n",
       "      <td>2015-11-06 00:00:00.000000</td>\n",
       "    </tr>\n",
       "    <tr>\n",
       "      <td>164240</td>\n",
       "      <td>farishaalamsyah</td>\n",
       "      <td>Null</td>\n",
       "      <td>1</td>\n",
       "      <td>27 Oct 2015</td>\n",
       "      <td>Ultra Rapid Action Pad</td>\n",
       "      <td>Toner</td>\n",
       "      <td>2020-02-25 17:01:06.757207</td>\n",
       "      <td>https://reviews.femaledaily.com/products/clean...</td>\n",
       "      <td>2015-10-27 00:00:00.000000</td>\n",
       "    </tr>\n",
       "    <tr>\n",
       "      <td>164241</td>\n",
       "      <td>imeldanababan</td>\n",
       "      <td>Null</td>\n",
       "      <td>4</td>\n",
       "      <td>28 Sep 2015</td>\n",
       "      <td>Ultra Rapid Action Pad</td>\n",
       "      <td>Toner</td>\n",
       "      <td>2020-02-25 17:01:06.759209</td>\n",
       "      <td>https://reviews.femaledaily.com/products/clean...</td>\n",
       "      <td>2015-09-28 00:00:00.000000</td>\n",
       "    </tr>\n",
       "    <tr>\n",
       "      <td>164242</td>\n",
       "      <td>princessvie</td>\n",
       "      <td>Null</td>\n",
       "      <td>3</td>\n",
       "      <td>23 Sep 2015</td>\n",
       "      <td>Ultra Rapid Action Pad</td>\n",
       "      <td>Toner</td>\n",
       "      <td>2020-02-25 17:01:07.132358</td>\n",
       "      <td>https://reviews.femaledaily.com/products/clean...</td>\n",
       "      <td>2015-09-23 00:00:00.000000</td>\n",
       "    </tr>\n",
       "    <tr>\n",
       "      <td>164243</td>\n",
       "      <td>nucky</td>\n",
       "      <td>Null</td>\n",
       "      <td>2</td>\n",
       "      <td>21 Sep 2015</td>\n",
       "      <td>Ultra Rapid Action Pad</td>\n",
       "      <td>Toner</td>\n",
       "      <td>2020-02-25 17:01:07.134360</td>\n",
       "      <td>https://reviews.femaledaily.com/products/clean...</td>\n",
       "      <td>2015-09-21 00:00:00.000000</td>\n",
       "    </tr>\n",
       "  </tbody>\n",
       "</table>\n",
       "<p>156137 rows × 9 columns</p>\n",
       "</div>"
      ],
      "text/plain": [
       "               reviewer recommend  stars         date                 product  \\\n",
       "0                Ayuika        No      3   5 days ago          Perfect 3D Gel   \n",
       "1          yustinalupit       Yes      4  16 Feb 2020          Perfect 3D Gel   \n",
       "2             evikdanny        No      3  13 Feb 2020          Perfect 3D Gel   \n",
       "3          daniskhoirun       Yes      3  08 Feb 2020          Perfect 3D Gel   \n",
       "4             hulahup19       Yes      5  08 Feb 2020          Perfect 3D Gel   \n",
       "...                 ...       ...    ...          ...                     ...   \n",
       "164239          steph91      Null      4  06 Nov 2015  Ultra Rapid Action Pad   \n",
       "164240  farishaalamsyah      Null      1  27 Oct 2015  Ultra Rapid Action Pad   \n",
       "164241    imeldanababan      Null      4  28 Sep 2015  Ultra Rapid Action Pad   \n",
       "164242      princessvie      Null      3  23 Sep 2015  Ultra Rapid Action Pad   \n",
       "164243            nucky      Null      2  21 Sep 2015  Ultra Rapid Action Pad   \n",
       "\n",
       "           category                date_scrape  \\\n",
       "0       Night Cream 2020-02-24 13:35:12.875052   \n",
       "1       Night Cream 2020-02-24 13:35:12.876053   \n",
       "2       Night Cream 2020-02-24 13:35:12.878054   \n",
       "3       Night Cream 2020-02-24 13:35:12.880038   \n",
       "4       Night Cream 2020-02-24 13:35:12.882056   \n",
       "...             ...                        ...   \n",
       "164239        Toner 2020-02-25 17:01:06.755206   \n",
       "164240        Toner 2020-02-25 17:01:06.757207   \n",
       "164241        Toner 2020-02-25 17:01:06.759209   \n",
       "164242        Toner 2020-02-25 17:01:07.132358   \n",
       "164243        Toner 2020-02-25 17:01:07.134360   \n",
       "\n",
       "                                                      url  \\\n",
       "0       https://reviews.femaledaily.com/products/moist...   \n",
       "1       https://reviews.femaledaily.com/products/moist...   \n",
       "2       https://reviews.femaledaily.com/products/moist...   \n",
       "3       https://reviews.femaledaily.com/products/moist...   \n",
       "4       https://reviews.femaledaily.com/products/moist...   \n",
       "...                                                   ...   \n",
       "164239  https://reviews.femaledaily.com/products/clean...   \n",
       "164240  https://reviews.femaledaily.com/products/clean...   \n",
       "164241  https://reviews.femaledaily.com/products/clean...   \n",
       "164242  https://reviews.femaledaily.com/products/clean...   \n",
       "164243  https://reviews.femaledaily.com/products/clean...   \n",
       "\n",
       "                     date_convert  \n",
       "0      2020-02-19 13:35:12.876053  \n",
       "1      2020-02-16 00:00:00.000000  \n",
       "2      2020-02-13 00:00:00.000000  \n",
       "3      2020-02-08 00:00:00.000000  \n",
       "4      2020-02-08 00:00:00.000000  \n",
       "...                           ...  \n",
       "164239 2015-11-06 00:00:00.000000  \n",
       "164240 2015-10-27 00:00:00.000000  \n",
       "164241 2015-09-28 00:00:00.000000  \n",
       "164242 2015-09-23 00:00:00.000000  \n",
       "164243 2015-09-21 00:00:00.000000  \n",
       "\n",
       "[156137 rows x 9 columns]"
      ]
     },
     "execution_count": 475,
     "metadata": {},
     "output_type": "execute_result"
    }
   ],
   "source": [
    "femdaily['date_convert'] = parsed_date\n",
    "femdaily"
   ]
  },
  {
   "cell_type": "markdown",
   "metadata": {},
   "source": [
    "<h4><b>Melakukan penghapusan pada kolom yang tidak digunakan</b></h4>"
   ]
  },
  {
   "cell_type": "code",
   "execution_count": 476,
   "metadata": {},
   "outputs": [],
   "source": [
    "femdaily.drop(['date','date_scrape','url'],axis=1,inplace=True)"
   ]
  },
  {
   "cell_type": "code",
   "execution_count": 477,
   "metadata": {},
   "outputs": [
    {
     "data": {
      "text/html": [
       "<div>\n",
       "<style scoped>\n",
       "    .dataframe tbody tr th:only-of-type {\n",
       "        vertical-align: middle;\n",
       "    }\n",
       "\n",
       "    .dataframe tbody tr th {\n",
       "        vertical-align: top;\n",
       "    }\n",
       "\n",
       "    .dataframe thead th {\n",
       "        text-align: right;\n",
       "    }\n",
       "</style>\n",
       "<table border=\"1\" class=\"dataframe\">\n",
       "  <thead>\n",
       "    <tr style=\"text-align: right;\">\n",
       "      <th></th>\n",
       "      <th>reviewer</th>\n",
       "      <th>recommend</th>\n",
       "      <th>stars</th>\n",
       "      <th>product</th>\n",
       "      <th>category</th>\n",
       "      <th>date_convert</th>\n",
       "    </tr>\n",
       "  </thead>\n",
       "  <tbody>\n",
       "    <tr>\n",
       "      <td>0</td>\n",
       "      <td>Ayuika</td>\n",
       "      <td>No</td>\n",
       "      <td>3</td>\n",
       "      <td>Perfect 3D Gel</td>\n",
       "      <td>Night Cream</td>\n",
       "      <td>2020-02-19 13:35:12.876053</td>\n",
       "    </tr>\n",
       "    <tr>\n",
       "      <td>1</td>\n",
       "      <td>yustinalupit</td>\n",
       "      <td>Yes</td>\n",
       "      <td>4</td>\n",
       "      <td>Perfect 3D Gel</td>\n",
       "      <td>Night Cream</td>\n",
       "      <td>2020-02-16 00:00:00.000000</td>\n",
       "    </tr>\n",
       "    <tr>\n",
       "      <td>2</td>\n",
       "      <td>evikdanny</td>\n",
       "      <td>No</td>\n",
       "      <td>3</td>\n",
       "      <td>Perfect 3D Gel</td>\n",
       "      <td>Night Cream</td>\n",
       "      <td>2020-02-13 00:00:00.000000</td>\n",
       "    </tr>\n",
       "    <tr>\n",
       "      <td>3</td>\n",
       "      <td>daniskhoirun</td>\n",
       "      <td>Yes</td>\n",
       "      <td>3</td>\n",
       "      <td>Perfect 3D Gel</td>\n",
       "      <td>Night Cream</td>\n",
       "      <td>2020-02-08 00:00:00.000000</td>\n",
       "    </tr>\n",
       "    <tr>\n",
       "      <td>4</td>\n",
       "      <td>hulahup19</td>\n",
       "      <td>Yes</td>\n",
       "      <td>5</td>\n",
       "      <td>Perfect 3D Gel</td>\n",
       "      <td>Night Cream</td>\n",
       "      <td>2020-02-08 00:00:00.000000</td>\n",
       "    </tr>\n",
       "    <tr>\n",
       "      <td>...</td>\n",
       "      <td>...</td>\n",
       "      <td>...</td>\n",
       "      <td>...</td>\n",
       "      <td>...</td>\n",
       "      <td>...</td>\n",
       "      <td>...</td>\n",
       "    </tr>\n",
       "    <tr>\n",
       "      <td>164239</td>\n",
       "      <td>steph91</td>\n",
       "      <td>Null</td>\n",
       "      <td>4</td>\n",
       "      <td>Ultra Rapid Action Pad</td>\n",
       "      <td>Toner</td>\n",
       "      <td>2015-11-06 00:00:00.000000</td>\n",
       "    </tr>\n",
       "    <tr>\n",
       "      <td>164240</td>\n",
       "      <td>farishaalamsyah</td>\n",
       "      <td>Null</td>\n",
       "      <td>1</td>\n",
       "      <td>Ultra Rapid Action Pad</td>\n",
       "      <td>Toner</td>\n",
       "      <td>2015-10-27 00:00:00.000000</td>\n",
       "    </tr>\n",
       "    <tr>\n",
       "      <td>164241</td>\n",
       "      <td>imeldanababan</td>\n",
       "      <td>Null</td>\n",
       "      <td>4</td>\n",
       "      <td>Ultra Rapid Action Pad</td>\n",
       "      <td>Toner</td>\n",
       "      <td>2015-09-28 00:00:00.000000</td>\n",
       "    </tr>\n",
       "    <tr>\n",
       "      <td>164242</td>\n",
       "      <td>princessvie</td>\n",
       "      <td>Null</td>\n",
       "      <td>3</td>\n",
       "      <td>Ultra Rapid Action Pad</td>\n",
       "      <td>Toner</td>\n",
       "      <td>2015-09-23 00:00:00.000000</td>\n",
       "    </tr>\n",
       "    <tr>\n",
       "      <td>164243</td>\n",
       "      <td>nucky</td>\n",
       "      <td>Null</td>\n",
       "      <td>2</td>\n",
       "      <td>Ultra Rapid Action Pad</td>\n",
       "      <td>Toner</td>\n",
       "      <td>2015-09-21 00:00:00.000000</td>\n",
       "    </tr>\n",
       "  </tbody>\n",
       "</table>\n",
       "<p>156137 rows × 6 columns</p>\n",
       "</div>"
      ],
      "text/plain": [
       "               reviewer recommend  stars                 product     category  \\\n",
       "0                Ayuika        No      3          Perfect 3D Gel  Night Cream   \n",
       "1          yustinalupit       Yes      4          Perfect 3D Gel  Night Cream   \n",
       "2             evikdanny        No      3          Perfect 3D Gel  Night Cream   \n",
       "3          daniskhoirun       Yes      3          Perfect 3D Gel  Night Cream   \n",
       "4             hulahup19       Yes      5          Perfect 3D Gel  Night Cream   \n",
       "...                 ...       ...    ...                     ...          ...   \n",
       "164239          steph91      Null      4  Ultra Rapid Action Pad        Toner   \n",
       "164240  farishaalamsyah      Null      1  Ultra Rapid Action Pad        Toner   \n",
       "164241    imeldanababan      Null      4  Ultra Rapid Action Pad        Toner   \n",
       "164242      princessvie      Null      3  Ultra Rapid Action Pad        Toner   \n",
       "164243            nucky      Null      2  Ultra Rapid Action Pad        Toner   \n",
       "\n",
       "                     date_convert  \n",
       "0      2020-02-19 13:35:12.876053  \n",
       "1      2020-02-16 00:00:00.000000  \n",
       "2      2020-02-13 00:00:00.000000  \n",
       "3      2020-02-08 00:00:00.000000  \n",
       "4      2020-02-08 00:00:00.000000  \n",
       "...                           ...  \n",
       "164239 2015-11-06 00:00:00.000000  \n",
       "164240 2015-10-27 00:00:00.000000  \n",
       "164241 2015-09-28 00:00:00.000000  \n",
       "164242 2015-09-23 00:00:00.000000  \n",
       "164243 2015-09-21 00:00:00.000000  \n",
       "\n",
       "[156137 rows x 6 columns]"
      ]
     },
     "execution_count": 477,
     "metadata": {},
     "output_type": "execute_result"
    }
   ],
   "source": [
    "femdaily"
   ]
  },
  {
   "cell_type": "markdown",
   "metadata": {},
   "source": [
    "<h4><b>Visualisasi</b></h4>\n",
    "Proses visualisasi menggunakan library seaborn dan matplotlib"
   ]
  },
  {
   "cell_type": "code",
   "execution_count": 478,
   "metadata": {},
   "outputs": [],
   "source": [
    "import seaborn as sns\n",
    "import matplotlib.pyplot as plt"
   ]
  },
  {
   "cell_type": "markdown",
   "metadata": {},
   "source": [
    "<b>Melihat grafik jumlah review yang diberikan berdasarkan tahun</b>"
   ]
  },
  {
   "cell_type": "code",
   "execution_count": 483,
   "metadata": {},
   "outputs": [
    {
     "name": "stderr",
     "output_type": "stream",
     "text": [
      "C:\\Users\\litaimut\\Anaconda3\\lib\\site-packages\\ipykernel_launcher.py:1: SettingWithCopyWarning: \n",
      "A value is trying to be set on a copy of a slice from a DataFrame.\n",
      "Try using .loc[row_indexer,col_indexer] = value instead\n",
      "\n",
      "See the caveats in the documentation: http://pandas.pydata.org/pandas-docs/stable/user_guide/indexing.html#returning-a-view-versus-a-copy\n",
      "  \"\"\"Entry point for launching an IPython kernel.\n"
     ]
    },
    {
     "data": {
      "text/html": [
       "<div>\n",
       "<style scoped>\n",
       "    .dataframe tbody tr th:only-of-type {\n",
       "        vertical-align: middle;\n",
       "    }\n",
       "\n",
       "    .dataframe tbody tr th {\n",
       "        vertical-align: top;\n",
       "    }\n",
       "\n",
       "    .dataframe thead th {\n",
       "        text-align: right;\n",
       "    }\n",
       "</style>\n",
       "<table border=\"1\" class=\"dataframe\">\n",
       "  <thead>\n",
       "    <tr style=\"text-align: right;\">\n",
       "      <th>col_0</th>\n",
       "      <th>year</th>\n",
       "      <th>number_of_date</th>\n",
       "    </tr>\n",
       "  </thead>\n",
       "  <tbody>\n",
       "    <tr>\n",
       "      <td>0</td>\n",
       "      <td>2013</td>\n",
       "      <td>59</td>\n",
       "    </tr>\n",
       "    <tr>\n",
       "      <td>1</td>\n",
       "      <td>2014</td>\n",
       "      <td>59</td>\n",
       "    </tr>\n",
       "    <tr>\n",
       "      <td>2</td>\n",
       "      <td>2015</td>\n",
       "      <td>3997</td>\n",
       "    </tr>\n",
       "    <tr>\n",
       "      <td>3</td>\n",
       "      <td>2016</td>\n",
       "      <td>5822</td>\n",
       "    </tr>\n",
       "    <tr>\n",
       "      <td>4</td>\n",
       "      <td>2017</td>\n",
       "      <td>7545</td>\n",
       "    </tr>\n",
       "    <tr>\n",
       "      <td>5</td>\n",
       "      <td>2018</td>\n",
       "      <td>31566</td>\n",
       "    </tr>\n",
       "    <tr>\n",
       "      <td>6</td>\n",
       "      <td>2019</td>\n",
       "      <td>84917</td>\n",
       "    </tr>\n",
       "    <tr>\n",
       "      <td>7</td>\n",
       "      <td>2020</td>\n",
       "      <td>22172</td>\n",
       "    </tr>\n",
       "  </tbody>\n",
       "</table>\n",
       "</div>"
      ],
      "text/plain": [
       "col_0  year  number_of_date\n",
       "0      2013              59\n",
       "1      2014              59\n",
       "2      2015            3997\n",
       "3      2016            5822\n",
       "4      2017            7545\n",
       "5      2018           31566\n",
       "6      2019           84917\n",
       "7      2020           22172"
      ]
     },
     "execution_count": 483,
     "metadata": {},
     "output_type": "execute_result"
    }
   ],
   "source": [
    "femdaily['year'] = femdaily['date_convert'].dt.year\n",
    "count_date = pd.crosstab(index=femdaily.year, \n",
    "                    columns=\"number_of_date\").sort_values(\"year\", ascending=True).reset_index()\n",
    "count_date"
   ]
  },
  {
   "cell_type": "code",
   "execution_count": 484,
   "metadata": {
    "scrolled": false
   },
   "outputs": [
    {
     "data": {
      "image/png": "[encoded data removed]",
      "text/plain": [
       "<Figure size 864x720 with 1 Axes>"
      ]
     },
     "metadata": {
      "needs_background": "light"
     },
     "output_type": "display_data"
    }
   ],
   "source": [
    "count_date.set_index('year')['number_of_date'].plot(figsize=(12, 10), linewidth=2.5, color='maroon')\n",
    "plt.xlabel(\"Year\", labelpad=15)\n",
    "plt.ylabel(\"Review Count\", labelpad=15)\n",
    "plt.title(\"Number of Review by Year\", y=1.02, fontsize=22);"
   ]
  },
  {
   "cell_type": "markdown",
   "metadata": {},
   "source": [
    "<div style=\"text-align:justify\">Hasil visualisasi <i>line plot</i> diatas menunjukkan bahwa reviewer mulai aktif memberikan komentar (review) pada tahun 2017. Dan mengalami kenaikan yang signifikan di tahun 2018 -2019. Pada tahun 2020 mengalami penurunan dikarenakan proses penarikan data baru saja dilakukan pada bulan februari, jadi masih terdapat informasi yang kurang untuk ditampilkan </div>"
   ]
  },
  {
   "cell_type": "markdown",
   "metadata": {},
   "source": [
    "<b>Melihat distribusi testimoni yang diberikan oleh reviewer</b>\n"
   ]
  },
  {
   "cell_type": "code",
   "execution_count": 480,
   "metadata": {},
   "outputs": [
    {
     "data": {
      "image/png": "[encoded data removed]",
      "text/plain": [
       "<Figure size 648x360 with 1 Axes>"
      ]
     },
     "metadata": {
      "needs_background": "light"
     },
     "output_type": "display_data"
    }
   ],
   "source": [
    "plt.subplots(figsize=(9,5))\n",
    "sns.countplot(y=\"recommend\", data=femdaily,order=femdaily[\"recommend\"].value_counts().index)\n",
    "plt.title(\"Frequency Count of Recommendation\")\n",
    "plt.xlabel(\"Count\")\n",
    "plt.show()"
   ]
  },
  {
   "cell_type": "markdown",
   "metadata": {},
   "source": [
    "<div style=\"text-align:justify\">Hasil visualisasi diatas menunjukkan bahwa dari dari data yang ada, kebanyakan reviewer tidak memberikan testimoni \"Ya\" yang berarti produk tersebut direkomendasikan dan \"Tidak\" yang berarti produk tersebut tidak direkomendasikan. Setelah melakukan pengamatan secara manual pada halaman Femaledaily yang ada, hal tersebut disebabkan karena fitur untuk memberikan rekomendasi tersebut baru tersedia pada sekitar awal tahun 2019, dan pada awal tahun pun pengguna situs masih belum terbiasa dengan fitur baru tersebut. Sehingga terjadilah distribusi yang tidak seimbang pada testimoni yang diberikan.</div>"
   ]
  },
  {
   "cell_type": "markdown",
   "metadata": {},
   "source": [
    "<b>Melihat 10 produk teratas yang paling sering mendapatkan komentar</b>\n",
    "<div style=\"text-align:justify\">Dari beberapa kategori yang ada, akan dilakukan visualisasi dan analisa kira-kira kategori produk apa yang paling sering di-review oleh pengguna</div>"
   ]
  },
  {
   "cell_type": "code",
   "execution_count": 73,
   "metadata": {},
   "outputs": [],
   "source": [
    "#Top 10 product categories which most often reviewed\n",
    "top_10_categories = pd.crosstab(index=femdaily.category, \n",
    "                    columns=\"number_of_reviewer\").sort_values(\"number_of_reviewer\", ascending=False).head(10).reset_index()"
   ]
  },
  {
   "cell_type": "code",
   "execution_count": 74,
   "metadata": {},
   "outputs": [
    {
     "data": {
      "text/html": [
       "<div>\n",
       "<style scoped>\n",
       "    .dataframe tbody tr th:only-of-type {\n",
       "        vertical-align: middle;\n",
       "    }\n",
       "\n",
       "    .dataframe tbody tr th {\n",
       "        vertical-align: top;\n",
       "    }\n",
       "\n",
       "    .dataframe thead th {\n",
       "        text-align: right;\n",
       "    }\n",
       "</style>\n",
       "<table border=\"1\" class=\"dataframe\">\n",
       "  <thead>\n",
       "    <tr style=\"text-align: right;\">\n",
       "      <th>col_0</th>\n",
       "      <th>category</th>\n",
       "      <th>number_of_reviewer</th>\n",
       "    </tr>\n",
       "  </thead>\n",
       "  <tbody>\n",
       "    <tr>\n",
       "      <td>0</td>\n",
       "      <td>Facial Wash</td>\n",
       "      <td>16837</td>\n",
       "    </tr>\n",
       "    <tr>\n",
       "      <td>1</td>\n",
       "      <td>Wash-Off</td>\n",
       "      <td>14642</td>\n",
       "    </tr>\n",
       "    <tr>\n",
       "      <td>2</td>\n",
       "      <td>Serum &amp; Essence</td>\n",
       "      <td>14381</td>\n",
       "    </tr>\n",
       "    <tr>\n",
       "      <td>3</td>\n",
       "      <td>Toner</td>\n",
       "      <td>13613</td>\n",
       "    </tr>\n",
       "    <tr>\n",
       "      <td>4</td>\n",
       "      <td>Mask Sheet</td>\n",
       "      <td>13204</td>\n",
       "    </tr>\n",
       "    <tr>\n",
       "      <td>5</td>\n",
       "      <td>Day Cream</td>\n",
       "      <td>12863</td>\n",
       "    </tr>\n",
       "    <tr>\n",
       "      <td>6</td>\n",
       "      <td>Acne Treatment</td>\n",
       "      <td>9448</td>\n",
       "    </tr>\n",
       "    <tr>\n",
       "      <td>7</td>\n",
       "      <td>Sun Protection</td>\n",
       "      <td>8095</td>\n",
       "    </tr>\n",
       "    <tr>\n",
       "      <td>8</td>\n",
       "      <td>Makeup Remover</td>\n",
       "      <td>7706</td>\n",
       "    </tr>\n",
       "    <tr>\n",
       "      <td>9</td>\n",
       "      <td>Lotion &amp; Emulsion</td>\n",
       "      <td>7325</td>\n",
       "    </tr>\n",
       "  </tbody>\n",
       "</table>\n",
       "</div>"
      ],
      "text/plain": [
       "col_0           category  number_of_reviewer\n",
       "0            Facial Wash               16837\n",
       "1               Wash-Off               14642\n",
       "2        Serum & Essence               14381\n",
       "3                  Toner               13613\n",
       "4             Mask Sheet               13204\n",
       "5              Day Cream               12863\n",
       "6         Acne Treatment                9448\n",
       "7         Sun Protection                8095\n",
       "8         Makeup Remover                7706\n",
       "9      Lotion & Emulsion                7325"
      ]
     },
     "execution_count": 74,
     "metadata": {},
     "output_type": "execute_result"
    }
   ],
   "source": [
    "top_10_categories"
   ]
  },
  {
   "cell_type": "code",
   "execution_count": 75,
   "metadata": {},
   "outputs": [
    {
     "data": {
      "image/png": "[encoded data removed]",
      "text/plain": [
       "<Figure size 1224x504 with 1 Axes>"
      ]
     },
     "metadata": {
      "needs_background": "light"
     },
     "output_type": "display_data"
    }
   ],
   "source": [
    "plt.rcParams['figure.figsize'] = 17, 7\n",
    "top_10_categories['category'] = top_10_categories['category'].cat.remove_unused_categories()\n",
    "sns.barplot(x='category', y='number_of_reviewer',\n",
    "            data=top_10_categories);"
   ]
  },
  {
   "cell_type": "markdown",
   "metadata": {},
   "source": [
    "<div style=\"text-align:justify\">Hasil menunjukkan bahwa \"Facial Wash\" adalah kategori produk yang paling sering di review oleh pengguna dibandingkan dengan kategori produk yang lain. Diikuti oleh \"Wash Off\", \"Serum & Essence\", dan kemudian \"Toner\". Hal tersebut menunjukkan bahwa tingkat penggunaan \"Facial Wash\" sangat tinggi dibandingkan kategori produk yang lain. </div>"
   ]
  },
  {
   "cell_type": "markdown",
   "metadata": {},
   "source": [
    "<b>Melihat 10 presentase produk yang paling banyak di review pada kategori produk Facial Wash</b>"
   ]
  },
  {
   "cell_type": "code",
   "execution_count": 169,
   "metadata": {},
   "outputs": [
    {
     "data": {
      "text/plain": [
       "reviewer       object\n",
       "recommend    category\n",
       "stars           int64\n",
       "product        object\n",
       "category     category\n",
       "dtype: object"
      ]
     },
     "execution_count": 169,
     "metadata": {},
     "output_type": "execute_result"
    }
   ],
   "source": [
    "facial_wash = femdaily[femdaily.category == 'Facial Wash']\n",
    "facial_wash.dtypes"
   ]
  },
  {
   "cell_type": "code",
   "execution_count": 281,
   "metadata": {},
   "outputs": [
    {
     "data": {
      "text/html": [
       "<div>\n",
       "<style scoped>\n",
       "    .dataframe tbody tr th:only-of-type {\n",
       "        vertical-align: middle;\n",
       "    }\n",
       "\n",
       "    .dataframe tbody tr th {\n",
       "        vertical-align: top;\n",
       "    }\n",
       "\n",
       "    .dataframe thead th {\n",
       "        text-align: right;\n",
       "    }\n",
       "</style>\n",
       "<table border=\"1\" class=\"dataframe\">\n",
       "  <thead>\n",
       "    <tr style=\"text-align: right;\">\n",
       "      <th></th>\n",
       "      <th>product</th>\n",
       "      <th>recommend</th>\n",
       "      <th>count_rec</th>\n",
       "    </tr>\n",
       "  </thead>\n",
       "  <tbody>\n",
       "    <tr>\n",
       "      <td>0</td>\n",
       "      <td>ACNE WASH</td>\n",
       "      <td>No</td>\n",
       "      <td>2</td>\n",
       "    </tr>\n",
       "    <tr>\n",
       "      <td>1</td>\n",
       "      <td>ACNE WASH</td>\n",
       "      <td>Null</td>\n",
       "      <td>53</td>\n",
       "    </tr>\n",
       "    <tr>\n",
       "      <td>2</td>\n",
       "      <td>ACNE WASH</td>\n",
       "      <td>Yes</td>\n",
       "      <td>2</td>\n",
       "    </tr>\n",
       "    <tr>\n",
       "      <td>3</td>\n",
       "      <td>AHA BHA PHA 30 Days Miracle Cleansing Bar</td>\n",
       "      <td>No</td>\n",
       "      <td>4</td>\n",
       "    </tr>\n",
       "    <tr>\n",
       "      <td>4</td>\n",
       "      <td>AHA BHA PHA 30 Days Miracle Cleansing Bar</td>\n",
       "      <td>Null</td>\n",
       "      <td>77</td>\n",
       "    </tr>\n",
       "    <tr>\n",
       "      <td>...</td>\n",
       "      <td>...</td>\n",
       "      <td>...</td>\n",
       "      <td>...</td>\n",
       "    </tr>\n",
       "    <tr>\n",
       "      <td>522</td>\n",
       "      <td>white beauty aqua facial wash with plant extract</td>\n",
       "      <td>Null</td>\n",
       "      <td>44</td>\n",
       "    </tr>\n",
       "    <tr>\n",
       "      <td>523</td>\n",
       "      <td>white beauty aqua facial wash with plant extract</td>\n",
       "      <td>Yes</td>\n",
       "      <td>6</td>\n",
       "    </tr>\n",
       "    <tr>\n",
       "      <td>524</td>\n",
       "      <td>whitening soap</td>\n",
       "      <td>No</td>\n",
       "      <td>3</td>\n",
       "    </tr>\n",
       "    <tr>\n",
       "      <td>525</td>\n",
       "      <td>whitening soap</td>\n",
       "      <td>Null</td>\n",
       "      <td>52</td>\n",
       "    </tr>\n",
       "    <tr>\n",
       "      <td>526</td>\n",
       "      <td>whitening soap</td>\n",
       "      <td>Yes</td>\n",
       "      <td>4</td>\n",
       "    </tr>\n",
       "  </tbody>\n",
       "</table>\n",
       "<p>527 rows × 3 columns</p>\n",
       "</div>"
      ],
      "text/plain": [
       "                                              product recommend  count_rec\n",
       "0                                           ACNE WASH        No          2\n",
       "1                                           ACNE WASH      Null         53\n",
       "2                                           ACNE WASH       Yes          2\n",
       "3           AHA BHA PHA 30 Days Miracle Cleansing Bar        No          4\n",
       "4           AHA BHA PHA 30 Days Miracle Cleansing Bar      Null         77\n",
       "..                                                ...       ...        ...\n",
       "522  white beauty aqua facial wash with plant extract      Null         44\n",
       "523  white beauty aqua facial wash with plant extract       Yes          6\n",
       "524                                    whitening soap        No          3\n",
       "525                                    whitening soap      Null         52\n",
       "526                                    whitening soap       Yes          4\n",
       "\n",
       "[527 rows x 3 columns]"
      ]
     },
     "execution_count": 281,
     "metadata": {},
     "output_type": "execute_result"
    }
   ],
   "source": [
    "most_review = facial_wash.groupby(['product', 'recommend']).agg({'recommend':'count'}).rename({'recommend':'count_rec'},axis=1).reset_index()"
   ]
  },
  {
   "cell_type": "code",
   "execution_count": 282,
   "metadata": {},
   "outputs": [],
   "source": [
    "most_review['recommend']=most_review['recommend'].astype('object')"
   ]
  },
  {
   "cell_type": "code",
   "execution_count": 485,
   "metadata": {},
   "outputs": [
    {
     "data": {
      "text/html": [
       "<div>\n",
       "<style scoped>\n",
       "    .dataframe tbody tr th:only-of-type {\n",
       "        vertical-align: middle;\n",
       "    }\n",
       "\n",
       "    .dataframe tbody tr th {\n",
       "        vertical-align: top;\n",
       "    }\n",
       "\n",
       "    .dataframe thead th {\n",
       "        text-align: right;\n",
       "    }\n",
       "</style>\n",
       "<table border=\"1\" class=\"dataframe\">\n",
       "  <thead>\n",
       "    <tr style=\"text-align: right;\">\n",
       "      <th>recommend</th>\n",
       "      <th>product</th>\n",
       "      <th>precentage_yes</th>\n",
       "      <th>precentage_no</th>\n",
       "    </tr>\n",
       "  </thead>\n",
       "  <tbody>\n",
       "    <tr>\n",
       "      <td>143</td>\n",
       "      <td>Refreshing Facial Wash Gel</td>\n",
       "      <td>0.949495</td>\n",
       "      <td>0.050025</td>\n",
       "    </tr>\n",
       "    <tr>\n",
       "      <td>125</td>\n",
       "      <td>Perfect Whip</td>\n",
       "      <td>0.909091</td>\n",
       "      <td>0.090376</td>\n",
       "    </tr>\n",
       "    <tr>\n",
       "      <td>158</td>\n",
       "      <td>Sparkling White Facial Foam</td>\n",
       "      <td>0.870000</td>\n",
       "      <td>0.128879</td>\n",
       "    </tr>\n",
       "    <tr>\n",
       "      <td>160</td>\n",
       "      <td>Tamagohada Mild Peeling Face Wash</td>\n",
       "      <td>0.830000</td>\n",
       "      <td>0.168601</td>\n",
       "    </tr>\n",
       "    <tr>\n",
       "      <td>76</td>\n",
       "      <td>Gokujyun Ultimate Moisturizing Face Wash</td>\n",
       "      <td>0.824742</td>\n",
       "      <td>0.173780</td>\n",
       "    </tr>\n",
       "    <tr>\n",
       "      <td>116</td>\n",
       "      <td>Nature Daily Aloe Hydramild Facial Wash</td>\n",
       "      <td>0.816327</td>\n",
       "      <td>0.182156</td>\n",
       "    </tr>\n",
       "    <tr>\n",
       "      <td>74</td>\n",
       "      <td>Gentle Skin Cleanser</td>\n",
       "      <td>0.806122</td>\n",
       "      <td>0.192296</td>\n",
       "    </tr>\n",
       "    <tr>\n",
       "      <td>148</td>\n",
       "      <td>Sakura White Pinkish Glow Whip Foam</td>\n",
       "      <td>0.804124</td>\n",
       "      <td>0.194266</td>\n",
       "    </tr>\n",
       "    <tr>\n",
       "      <td>100</td>\n",
       "      <td>Low pH Good Morning Gel Cleanser</td>\n",
       "      <td>0.797980</td>\n",
       "      <td>0.200405</td>\n",
       "    </tr>\n",
       "    <tr>\n",
       "      <td>163</td>\n",
       "      <td>Tea Tree Skin Clearing Facial Wash</td>\n",
       "      <td>0.767742</td>\n",
       "      <td>0.231113</td>\n",
       "    </tr>\n",
       "  </tbody>\n",
       "</table>\n",
       "</div>"
      ],
      "text/plain": [
       "recommend                                   product  precentage_yes  \\\n",
       "143                      Refreshing Facial Wash Gel        0.949495   \n",
       "125                                    Perfect Whip        0.909091   \n",
       "158                     Sparkling White Facial Foam        0.870000   \n",
       "160               Tamagohada Mild Peeling Face Wash        0.830000   \n",
       "76         Gokujyun Ultimate Moisturizing Face Wash        0.824742   \n",
       "116         Nature Daily Aloe Hydramild Facial Wash        0.816327   \n",
       "74                             Gentle Skin Cleanser        0.806122   \n",
       "148             Sakura White Pinkish Glow Whip Foam        0.804124   \n",
       "100                Low pH Good Morning Gel Cleanser        0.797980   \n",
       "163              Tea Tree Skin Clearing Facial Wash        0.767742   \n",
       "\n",
       "recommend  precentage_no  \n",
       "143             0.050025  \n",
       "125             0.090376  \n",
       "158             0.128879  \n",
       "160             0.168601  \n",
       "76              0.173780  \n",
       "116             0.182156  \n",
       "74              0.192296  \n",
       "148             0.194266  \n",
       "100             0.200405  \n",
       "163             0.231113  "
      ]
     },
     "execution_count": 485,
     "metadata": {},
     "output_type": "execute_result"
    }
   ],
   "source": [
    "most = pd.crosstab(index=most_review['product'], columns=most_review['recommend'], values=most_review['count_rec'], aggfunc = 'sum')\n",
    "review_most = most.reset_index().drop(columns=['Null']).sort_values(['Yes'], ascending=False)\n",
    "review_most.isna().sum()\n",
    "review_most.dropna(inplace=True)\n",
    "review_most['precentage_yes'] = review_most['Yes']/review_most.sum(axis=1)\n",
    "review_most['precentage_no'] = review_most['No']/review_most.sum(axis=1)\n",
    "review_most = review_most.drop(columns=['No','Yes'])[:10]\n",
    "review_most.sort_values(['precentage_yes'], ascending=False)"
   ]
  },
  {
   "cell_type": "code",
   "execution_count": null,
   "metadata": {
    "scrolled": false
   },
   "outputs": [],
   "source": [
    "review_most = pd.melt(review_most,id_vars=['product'],var_name='metrics', value_name='count').sort_values(['product'], ascending=False)\n"
   ]
  },
  {
   "cell_type": "code",
   "execution_count": 399,
   "metadata": {},
   "outputs": [
    {
     "data": {
      "image/png": "[encoded data removed]",
      "text/plain": [
       "<Figure size 1080x504 with 1 Axes>"
      ]
     },
     "metadata": {
      "needs_background": "light"
     },
     "output_type": "display_data"
    }
   ],
   "source": [
    "ax = sns.catplot(x='count', y='product', data=review_most, kind='bar', hue='metrics', palette=\"deep\", legend_out=True)\n",
    "# title\n",
    "new_title = 'Recommendation'\n",
    "ax._legend.set_title(new_title)\n",
    "#ax.set_xticklabels(rotation=30)\n",
    "ax.fig.set_size_inches(15,7)\n",
    "ax = (ax.set_axis_labels(\"Count\",\"Product\").set(xlim=(0,1)))\n",
    "plt.show(ax)"
   ]
  },
  {
   "cell_type": "markdown",
   "metadata": {},
   "source": [
    "<div style=\"text-align:justify\">Dari hasil tabel dan visualisasi diatas, dapat diketahui bahwa pada kategori \"Facial Wash\" produk \"Refreshing Facial Wash Gel\" adalah produk yang paling sering direkomendasikan oleh pengguna, dengan presentase \"Yes\" (produk tersebut direkomendasikan) yang dimiliki sebesar 94%. Diikuti oleh \"Perfect Whip\" pada posisi ke dua dan \"Sparkling White Facial Foam\" pada posisi ke tiga. Hal ini dapat dijadikan acuan oleh para pecinta skincare yang akan membeli produk dalam kategori Facial Wash, untuk memilih satu diantara ke tiga produk tersebut</div>"
   ]
  },
  {
   "attachments": {},
   "cell_type": "markdown",
   "metadata": {},
   "source": [
    "<b>Melihat nama pengguna/reviewer yang paling sering memberikan rekomendasi yang bagus pada tiap kategori produk</b><br>\n",
    "<div style=\"text-align:justify\">Pada website femaledaily terdapat beberapa nama-nama reviewer (biasanya seorang beauty enthusiast) yang dapat diikuti perkembangannya dalam mereview beberapa produk tertentu. Analisis kali ini akan menampilkan nama-nama reviewer yang aktif memberikan testimoni positif pada masing-masing kategori produk</div>\n"
   ]
  },
  {
   "cell_type": "code",
   "execution_count": null,
   "metadata": {},
   "outputs": [],
   "source": [
    "yes_recommend = femdaily[femdaily.recommend == 'Yes']"
   ]
  },
  {
   "cell_type": "code",
   "execution_count": 94,
   "metadata": {},
   "outputs": [],
   "source": [
    "reviewer_hb = yes_recommend.groupby(['category','reviewer']).agg({'recommend':'count'}).sort_values(['recommend'], ascending=False).groupby(['category']).head(1).reset_index()"
   ]
  },
  {
   "cell_type": "code",
   "execution_count": 95,
   "metadata": {},
   "outputs": [
    {
     "data": {
      "text/html": [
       "<div>\n",
       "<style scoped>\n",
       "    .dataframe tbody tr th:only-of-type {\n",
       "        vertical-align: middle;\n",
       "    }\n",
       "\n",
       "    .dataframe tbody tr th {\n",
       "        vertical-align: top;\n",
       "    }\n",
       "\n",
       "    .dataframe thead th {\n",
       "        text-align: right;\n",
       "    }\n",
       "</style>\n",
       "<table border=\"1\" class=\"dataframe\">\n",
       "  <thead>\n",
       "    <tr style=\"text-align: right;\">\n",
       "      <th></th>\n",
       "      <th>category</th>\n",
       "      <th>reviewer</th>\n",
       "      <th>recommend</th>\n",
       "    </tr>\n",
       "  </thead>\n",
       "  <tbody>\n",
       "    <tr>\n",
       "      <td>0</td>\n",
       "      <td>Mask Sheet</td>\n",
       "      <td>medinasfryn</td>\n",
       "      <td>28</td>\n",
       "    </tr>\n",
       "    <tr>\n",
       "      <td>1</td>\n",
       "      <td>Skin Soothing Treatment</td>\n",
       "      <td>firmanzaman</td>\n",
       "      <td>25</td>\n",
       "    </tr>\n",
       "    <tr>\n",
       "      <td>2</td>\n",
       "      <td>Facial Wash</td>\n",
       "      <td>carolitavph</td>\n",
       "      <td>17</td>\n",
       "    </tr>\n",
       "    <tr>\n",
       "      <td>3</td>\n",
       "      <td>Wash-Off</td>\n",
       "      <td>nitahakeem</td>\n",
       "      <td>15</td>\n",
       "    </tr>\n",
       "    <tr>\n",
       "      <td>4</td>\n",
       "      <td>Sleeping Mask</td>\n",
       "      <td>Tazkiakhoirunnisa</td>\n",
       "      <td>14</td>\n",
       "    </tr>\n",
       "    <tr>\n",
       "      <td>5</td>\n",
       "      <td>Cream &amp; Lotion</td>\n",
       "      <td>Dianset</td>\n",
       "      <td>13</td>\n",
       "    </tr>\n",
       "    <tr>\n",
       "      <td>6</td>\n",
       "      <td>Sun Protection</td>\n",
       "      <td>anieno</td>\n",
       "      <td>11</td>\n",
       "    </tr>\n",
       "    <tr>\n",
       "      <td>7</td>\n",
       "      <td>Scrub &amp; Exfoliator</td>\n",
       "      <td>purnamarzky</td>\n",
       "      <td>10</td>\n",
       "    </tr>\n",
       "    <tr>\n",
       "      <td>8</td>\n",
       "      <td>Serum &amp; Essence</td>\n",
       "      <td>AngelinaEllyza</td>\n",
       "      <td>9</td>\n",
       "    </tr>\n",
       "    <tr>\n",
       "      <td>9</td>\n",
       "      <td>Makeup Remover</td>\n",
       "      <td>Falasifah18</td>\n",
       "      <td>8</td>\n",
       "    </tr>\n",
       "    <tr>\n",
       "      <td>10</td>\n",
       "      <td>Toner</td>\n",
       "      <td>AmeliaMew</td>\n",
       "      <td>8</td>\n",
       "    </tr>\n",
       "    <tr>\n",
       "      <td>11</td>\n",
       "      <td>Day Cream</td>\n",
       "      <td>rilly_hermione</td>\n",
       "      <td>8</td>\n",
       "    </tr>\n",
       "    <tr>\n",
       "      <td>12</td>\n",
       "      <td>Lotion &amp; Emulsion</td>\n",
       "      <td>AngelinaEllyza</td>\n",
       "      <td>6</td>\n",
       "    </tr>\n",
       "    <tr>\n",
       "      <td>13</td>\n",
       "      <td>Acne Treatment</td>\n",
       "      <td>sweetzhaa</td>\n",
       "      <td>6</td>\n",
       "    </tr>\n",
       "    <tr>\n",
       "      <td>14</td>\n",
       "      <td>Oil</td>\n",
       "      <td>alvinda</td>\n",
       "      <td>6</td>\n",
       "    </tr>\n",
       "    <tr>\n",
       "      <td>15</td>\n",
       "      <td>Face Mist</td>\n",
       "      <td>purnamarzky</td>\n",
       "      <td>6</td>\n",
       "    </tr>\n",
       "    <tr>\n",
       "      <td>16</td>\n",
       "      <td>Night Cream</td>\n",
       "      <td>rilly_hermione</td>\n",
       "      <td>6</td>\n",
       "    </tr>\n",
       "    <tr>\n",
       "      <td>17</td>\n",
       "      <td>Face Oil</td>\n",
       "      <td>melindalastri</td>\n",
       "      <td>5</td>\n",
       "    </tr>\n",
       "    <tr>\n",
       "      <td>18</td>\n",
       "      <td>Nose Pack</td>\n",
       "      <td>farahmit</td>\n",
       "      <td>3</td>\n",
       "    </tr>\n",
       "    <tr>\n",
       "      <td>19</td>\n",
       "      <td>Peeling</td>\n",
       "      <td>dyekak</td>\n",
       "      <td>3</td>\n",
       "    </tr>\n",
       "    <tr>\n",
       "      <td>20</td>\n",
       "      <td>Eye Treatment</td>\n",
       "      <td>Nanjhenk</td>\n",
       "      <td>2</td>\n",
       "    </tr>\n",
       "    <tr>\n",
       "      <td>21</td>\n",
       "      <td>Brow &amp; Lash Treatment</td>\n",
       "      <td>Barbieboo</td>\n",
       "      <td>2</td>\n",
       "    </tr>\n",
       "  </tbody>\n",
       "</table>\n",
       "</div>"
      ],
      "text/plain": [
       "                   category           reviewer  recommend\n",
       "0                Mask Sheet        medinasfryn         28\n",
       "1   Skin Soothing Treatment        firmanzaman         25\n",
       "2               Facial Wash        carolitavph         17\n",
       "3                  Wash-Off         nitahakeem         15\n",
       "4             Sleeping Mask  Tazkiakhoirunnisa         14\n",
       "5            Cream & Lotion            Dianset         13\n",
       "6            Sun Protection             anieno         11\n",
       "7        Scrub & Exfoliator        purnamarzky         10\n",
       "8           Serum & Essence     AngelinaEllyza          9\n",
       "9            Makeup Remover        Falasifah18          8\n",
       "10                    Toner          AmeliaMew          8\n",
       "11                Day Cream     rilly_hermione          8\n",
       "12        Lotion & Emulsion     AngelinaEllyza          6\n",
       "13           Acne Treatment          sweetzhaa          6\n",
       "14                      Oil            alvinda          6\n",
       "15                Face Mist        purnamarzky          6\n",
       "16              Night Cream     rilly_hermione          6\n",
       "17                 Face Oil      melindalastri          5\n",
       "18                Nose Pack           farahmit          3\n",
       "19                  Peeling             dyekak          3\n",
       "20            Eye Treatment           Nanjhenk          2\n",
       "21    Brow & Lash Treatment          Barbieboo          2"
      ]
     },
     "execution_count": 95,
     "metadata": {},
     "output_type": "execute_result"
    }
   ],
   "source": [
    "reviewer_hb"
   ]
  },
  {
   "cell_type": "markdown",
   "metadata": {},
   "source": [
    "<div style=\"text-align:justify\">Hasil tabel diatas menunjukkan bahwa \"medinasfryn\" sangat aktif memberikan testimoni yang baik pada kategori produk \"Mask Sheet\", hal ini menunjukkan bahwa dia sangat cocok dan sering sekali melakukan perawatan wajah menggunakan mask sheet. Pada posisi kedua terdapat \"firmanzaman\" yang sering memberikan rekomendasi yang baik pada kategori produk \"Skin Soothing Treatment\". Hal ini sangat bermanfaat untuk para pecinta skincare dan penggiat situs femaledaily ketika akan membeli dua kategori produk tersebut, mereka dapat mengikuti akun ke dua reviewer tersebut untuk melihat testimoni pada produk-produk yang sangat disarankan.</div>"
   ]
  },
  {
   "cell_type": "markdown",
   "metadata": {},
   "source": [
    "# Kesimpulan\n"
   ]
  },
  {
   "cell_type": "markdown",
   "metadata": {},
   "source": [
    "<div style=\"text-align:justify\">Proses scraping sangat dianjurkan ketika data yang kita inginkan tidak tersedia pada situs repositori manapun</div><br>\n",
    "<div style=\"text-align:justify\">Data yang berhasil diambil dari situs Femaledaily adalah data review pada kategori produk skincare. Dimana terdapat beberapa kolom-kolom utama seperti nama reviewer, tanggal review, testimoni yang diberikan, dan jumlah bintang yang diberikan. Dari hasil olah data dapat diketahui bahwa pengguna mulai sangat aktif memberikan review pada tahun 2018-2019. Dan kebanyakan dari mereka melakukan review pada kategori produk \"Facial Wash\"</div>\n"
   ]
  }
 ],
 "metadata": {
  "kernelspec": {
   "display_name": "Python 3",
   "language": "python",
   "name": "python3"
  },
  "language_info": {
   "codemirror_mode": {
    "name": "ipython",
    "version": 3
   },
   "file_extension": ".py",
   "mimetype": "text/x-python",
   "name": "python",
   "nbconvert_exporter": "python",
   "pygments_lexer": "ipython3",
   "version": "3.7.4"
  }
 },
 "nbformat": 4,
 "nbformat_minor": 2
}
